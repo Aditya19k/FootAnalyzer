{
 "cells": [
  {
   "cell_type": "code",
   "execution_count": 1,
   "metadata": {},
   "outputs": [],
   "source": [
    "import pandas as pd"
   ]
  },
  {
   "cell_type": "code",
   "execution_count": 2,
   "metadata": {},
   "outputs": [],
   "source": [
    "file_paths = {\n",
    "    \"Premier League\": \"PL_FINAL.xlsx\",\n",
    "    \"La Liga\": \"LALIGA_FINAL.xlsx\",\n",
    "    \"Serie A\": \"SERIA_ALL.xlsx\",\n",
    "    \"Bundesliga\": \"BUNDESLIGA_ALL.xlsx\",\n",
    "    \"Ligue 1\": \"LIGUE1_ALL.xlsx\"\n",
    "}"
   ]
  },
  {
   "cell_type": "code",
   "execution_count": 3,
   "metadata": {},
   "outputs": [],
   "source": [
    "leagues = [\"Premier League\", \"La Liga\", \"Serie A\", \"Bundesliga\", \"Ligue 1\"]"
   ]
  },
  {
   "cell_type": "code",
   "execution_count": 9,
   "metadata": {},
   "outputs": [
    {
     "name": "stdout",
     "output_type": "stream",
     "text": [
      "Unique Teams: ['Sampdoria', 'Atalanta', 'Sassuolo', 'Cagliari', 'Milan', 'Empoli', 'SPAL', 'Inter', 'Napoli', 'Fiorentina', 'Roma', 'Udinese', 'Juventus', 'Genoa', 'Chievo', 'Parma', 'Torino', 'Bologna', 'Frosinone', 'Lazio']\n",
      "Unique Players: ['Emil Audero', 'Etrit Berisha', 'Andrea Consigli', 'Alessio Cragno', 'Gianluigi Donnarumma', 'Bartłomiej Drągowski', 'Pierluigi Gollini', 'Alfred Gomis', 'Samir Handanović', 'Orestis Karnezis', 'Alban Lafont', 'Alex Meret', 'Antonio Mirante', 'Juan Musso', 'Robin Olsen', 'David Ospina', 'Mattia Perin', 'Ivan Provedel', 'Ionuț Radu', 'Simone Scuffet', 'Adrian Šemper', 'Luigi Sepe', 'Salvatore Sirigu', 'Łukasz Skorupski', 'Stefano Sorrentino', 'Marco Sportiello', 'Thomas Strakosha', 'Wojciech Szczęsny', 'Pietro Terracciano', 'Emiliano Viviano']\n"
     ]
    }
   ],
   "source": [
    "import pandas as pd\n",
    "\n",
    "def read_data_from_excel(file_path, season, stat_type):\n",
    "    data = pd.read_excel(file_path, sheet_name=stat_type, engine='openpyxl')\n",
    "    \n",
    "    filtered_data = data[data['Season'] == season]\n",
    "    teams = filtered_data['Squad'].unique().tolist()\n",
    "    players = filtered_data['Player'].unique().tolist()\n",
    "    \n",
    "    return teams, players\n",
    "\n",
    "# File path for the provided Excel file\n",
    "file_path = \"SERIA_ALL.xlsx\"  # Ensure this is an .xlsx file\n",
    "\n",
    "# Select the season and stat type\n",
    "season = \"18/19\"\n",
    "stat_type = \"Keeper\"\n",
    "\n",
    "# Call the function to read data from the Excel file\n",
    "result = read_data_from_excel(file_path, season, stat_type)\n",
    "\n",
    "# Check the result and print the appropriate output\n",
    "if isinstance(result, str):  # If the result is an error message\n",
    "    print(result)\n",
    "else:\n",
    "    teams, players = result\n",
    "    print(\"Unique Teams:\", teams)\n",
    "    print(\"Unique Players:\", players)\n"
   ]
  },
  {
   "cell_type": "code",
   "execution_count": 6,
   "metadata": {},
   "outputs": [
    {
     "name": "stdout",
     "output_type": "stream",
     "text": [
      "Collecting openpyxl\n",
      "  Downloading openpyxl-3.1.2-py2.py3-none-any.whl.metadata (2.5 kB)\n",
      "Requirement already satisfied: et-xmlfile in c:\\python312\\lib\\site-packages (from openpyxl) (1.1.0)\n",
      "Using cached openpyxl-3.1.2-py2.py3-none-any.whl (249 kB)\n",
      "Installing collected packages: openpyxl\n",
      "Successfully installed openpyxl-3.1.2\n"
     ]
    }
   ],
   "source": [
    "!pip install openpyxl"
   ]
  },
  {
   "cell_type": "code",
   "execution_count": null,
   "metadata": {},
   "outputs": [],
   "source": []
  }
 ],
 "metadata": {
  "kernelspec": {
   "display_name": "Python 3",
   "language": "python",
   "name": "python3"
  },
  "language_info": {
   "codemirror_mode": {
    "name": "ipython",
    "version": 3
   },
   "file_extension": ".py",
   "mimetype": "text/x-python",
   "name": "python",
   "nbconvert_exporter": "python",
   "pygments_lexer": "ipython3",
   "version": "3.12.0"
  }
 },
 "nbformat": 4,
 "nbformat_minor": 2
}
